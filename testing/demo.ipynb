{
 "cells": [
  {
   "cell_type": "markdown",
   "metadata": {},
   "source": [
    "# Demo of Permission Problem"
   ]
  },
  {
   "cell_type": "markdown",
   "metadata": {},
   "source": [
    "Setup venv with  \n",
    "`python -m venv .venv`  \n",
    "Install the packages in requirements.txt in this folder with  \n",
    "`pip install -r testing/requirements.txt`  \n",
    "\n",
    "I have already enabled the google forms API. See more in the ttloveproject@gmail.com account's [google cloud dashboard](https://console.cloud.google.com/welcome?authuser=0&organizationId=0&project=love-package-60637&supportedpurview=project).  \n",
    "\n",
    "See more at [Google Forms API Retrieve Forms and Responses Guide](https://developers.google.com/forms/api/guides/retrieve-forms-responses) \n"
   ]
  },
  {
   "cell_type": "code",
   "execution_count": 41,
   "metadata": {},
   "outputs": [],
   "source": [
    "from apiclient import discovery"
   ]
  },
  {
   "cell_type": "code",
   "execution_count": 42,
   "metadata": {},
   "outputs": [],
   "source": [
    "SCOPES = \"https://www.googleapis.com/auth/forms.responses.readonly\"\n",
    "DISCOVERY_DOC = \"https://forms.googleapis.com/$discovery/rest?version=v1\"\n",
    "\n",
    "# a service account (https://cloud.google.com/iam/docs/service-account-overview) \n",
    "# This was created for this project\n",
    "SERVICE_ACCOUNT_FILE=\"love-package-60637-8b2923540e88.json\" "
   ]
  },
  {
   "cell_type": "code",
   "execution_count": 43,
   "metadata": {},
   "outputs": [],
   "source": [
    "creds = discovery.service_account.Credentials.from_service_account_file(SERVICE_ACCOUNT_FILE)"
   ]
  },
  {
   "cell_type": "code",
   "execution_count": 44,
   "metadata": {},
   "outputs": [],
   "source": [
    "service = discovery.build(\n",
    "    \"forms\",\n",
    "    \"v1\",\n",
    "    credentials=creds,\n",
    "    discoveryServiceUrl=DISCOVERY_DOC,\n",
    "    static_discovery=False\n",
    ")"
   ]
  },
  {
   "cell_type": "markdown",
   "metadata": {},
   "source": [
    "## Example 1: Fetching With Demo Form\n",
    "\n",
    "I created [this demo form](https://docs.google.com/forms/d/1ImX-5yoKu9BVM75cBsJk5u82HPgsCubn1bsr8XodRtg/edit) using the ttloveproject@gmail.com account and then made the service account fourthtry@love-package-60637.iam.gserviceaccount.com a collaborator on the form, giving this script access to view responses."
   ]
  },
  {
   "cell_type": "code",
   "execution_count": 45,
   "metadata": {},
   "outputs": [
    {
     "name": "stdout",
     "output_type": "stream",
     "text": [
      "{'responses': [{'responseId': 'ACYDBNgBpZJBsyCXhDtrEGGto5TQ3BRuAvux1K52qQCyuAANbZR0mgFN1lz0vidzSN0O0y8', 'createTime': '2023-11-27T04:01:06.857Z', 'lastSubmittedTime': '2023-11-27T04:01:06.857142Z', 'respondentEmail': 'ttloveproject@gmail.com', 'answers': {'0b4b3724': {'questionId': '0b4b3724', 'textAnswers': {'answers': [{'value': 'Option 1'}]}}}}, {'responseId': 'ACYDBNigVLhCqD0cFXgrkqWMgZOg_uI-b_CLtlB1llAtO-KfBXVws2-SpSR9sxz2VKA3OxE', 'createTime': '2023-11-27T03:59:46.456Z', 'lastSubmittedTime': '2023-11-27T03:59:46.456978Z', 'respondentEmail': 'ttloveproject@gmail.com', 'answers': {'0b4b3724': {'questionId': '0b4b3724', 'textAnswers': {'answers': [{'value': 'Option 1'}]}}}}]}\n"
     ]
    }
   ],
   "source": [
    "form_id = \"1ImX-5yoKu9BVM75cBsJk5u82HPgsCubn1bsr8XodRtg\"\n",
    "result = service.forms().responses().list(formId=form_id).execute()\n",
    "print(result)"
   ]
  },
  {
   "cell_type": "markdown",
   "metadata": {},
   "source": [
    "## Example 2: Fetching With Existing Volunteer Form\n",
    "\n",
    "This is the [Volunteer Google Form](https://docs.google.com/forms/d/1GUKGHGGXtqcYA1m20sLBKnduFHsH9l9my52T7LvJqPg/viewform?edit_requested=true) given by the nonprofit client that we want to actually fetch data from--this is where the permissions problem arises."
   ]
  },
  {
   "cell_type": "code",
   "execution_count": 40,
   "metadata": {},
   "outputs": [
    {
     "ename": "HttpError",
     "evalue": "<HttpError 403 when requesting https://forms.googleapis.com/v1/forms/1GUKGHGGXtqcYA1m20sLBKnduFHsH9l9my52T7LvJqPg/responses?alt=json returned \"The caller does not have permission\". Details: \"The caller does not have permission\">",
     "output_type": "error",
     "traceback": [
      "\u001b[1;31m---------------------------------------------------------------------------\u001b[0m",
      "\u001b[1;31mHttpError\u001b[0m                                 Traceback (most recent call last)",
      "\u001b[1;32mc:\\Users\\Annika Christensen\\Documents\\UChicago\\TechTeam\\Love_Package_Project\\love_package\\testing\\demo.ipynb Cell 10\u001b[0m line \u001b[0;36m3\n\u001b[0;32m      <a href='vscode-notebook-cell:/c%3A/Users/Annika%20Christensen/Documents/UChicago/TechTeam/Love_Package_Project/love_package/testing/demo.ipynb#X15sZmlsZQ%3D%3D?line=0'>1</a>\u001b[0m \u001b[39m# Prints the responses of your specified form: https://developers.google.com/forms/api/guides/retrieve-forms-responses\u001b[39;00m\n\u001b[0;32m      <a href='vscode-notebook-cell:/c%3A/Users/Annika%20Christensen/Documents/UChicago/TechTeam/Love_Package_Project/love_package/testing/demo.ipynb#X15sZmlsZQ%3D%3D?line=1'>2</a>\u001b[0m form_id \u001b[39m=\u001b[39m \u001b[39m\"\u001b[39m\u001b[39m1GUKGHGGXtqcYA1m20sLBKnduFHsH9l9my52T7LvJqPg\u001b[39m\u001b[39m\"\u001b[39m\n\u001b[1;32m----> <a href='vscode-notebook-cell:/c%3A/Users/Annika%20Christensen/Documents/UChicago/TechTeam/Love_Package_Project/love_package/testing/demo.ipynb#X15sZmlsZQ%3D%3D?line=2'>3</a>\u001b[0m result \u001b[39m=\u001b[39m service\u001b[39m.\u001b[39;49mforms()\u001b[39m.\u001b[39;49mresponses()\u001b[39m.\u001b[39;49mlist(formId\u001b[39m=\u001b[39;49mform_id)\u001b[39m.\u001b[39;49mexecute()\n\u001b[0;32m      <a href='vscode-notebook-cell:/c%3A/Users/Annika%20Christensen/Documents/UChicago/TechTeam/Love_Package_Project/love_package/testing/demo.ipynb#X15sZmlsZQ%3D%3D?line=3'>4</a>\u001b[0m \u001b[39mprint\u001b[39m(result)\n",
      "File \u001b[1;32mc:\\Users\\Annika Christensen\\Documents\\UChicago\\TechTeam\\Love_Package_Project\\love_package\\venv\\Lib\\site-packages\\googleapiclient\\_helpers.py:130\u001b[0m, in \u001b[0;36mpositional.<locals>.positional_decorator.<locals>.positional_wrapper\u001b[1;34m(*args, **kwargs)\u001b[0m\n\u001b[0;32m    128\u001b[0m     \u001b[39melif\u001b[39;00m positional_parameters_enforcement \u001b[39m==\u001b[39m POSITIONAL_WARNING:\n\u001b[0;32m    129\u001b[0m         logger\u001b[39m.\u001b[39mwarning(message)\n\u001b[1;32m--> 130\u001b[0m \u001b[39mreturn\u001b[39;00m wrapped(\u001b[39m*\u001b[39;49margs, \u001b[39m*\u001b[39;49m\u001b[39m*\u001b[39;49mkwargs)\n",
      "File \u001b[1;32mc:\\Users\\Annika Christensen\\Documents\\UChicago\\TechTeam\\Love_Package_Project\\love_package\\venv\\Lib\\site-packages\\googleapiclient\\http.py:938\u001b[0m, in \u001b[0;36mHttpRequest.execute\u001b[1;34m(self, http, num_retries)\u001b[0m\n\u001b[0;32m    936\u001b[0m     callback(resp)\n\u001b[0;32m    937\u001b[0m \u001b[39mif\u001b[39;00m resp\u001b[39m.\u001b[39mstatus \u001b[39m>\u001b[39m\u001b[39m=\u001b[39m \u001b[39m300\u001b[39m:\n\u001b[1;32m--> 938\u001b[0m     \u001b[39mraise\u001b[39;00m HttpError(resp, content, uri\u001b[39m=\u001b[39m\u001b[39mself\u001b[39m\u001b[39m.\u001b[39muri)\n\u001b[0;32m    939\u001b[0m \u001b[39mreturn\u001b[39;00m \u001b[39mself\u001b[39m\u001b[39m.\u001b[39mpostproc(resp, content)\n",
      "\u001b[1;31mHttpError\u001b[0m: <HttpError 403 when requesting https://forms.googleapis.com/v1/forms/1GUKGHGGXtqcYA1m20sLBKnduFHsH9l9my52T7LvJqPg/responses?alt=json returned \"The caller does not have permission\". Details: \"The caller does not have permission\">"
     ]
    }
   ],
   "source": [
    "form_id = \"1GUKGHGGXtqcYA1m20sLBKnduFHsH9l9my52T7LvJqPg\"\n",
    "result = service.forms().responses().list(formId=form_id).execute()\n",
    "print(result)"
   ]
  },
  {
   "cell_type": "markdown",
   "metadata": {},
   "source": [
    "## Next Step"
   ]
  },
  {
   "cell_type": "code",
   "execution_count": 39,
   "metadata": {},
   "outputs": [],
   "source": [
    "'''\n",
    "In Example 2, we do not have permissions since the (ttloveproject@gmail.com) account doesn't have permissions from the author of the volunteer form \n",
    "The error is: HttpError: <HttpError 403 when requesting https://forms.googleapis.com/v1/forms/1GUKGHGGXtqcYA1m20sLBKnduFHsH9l9my52T7LvJqPg/responses?alt=json returned \"The caller does not have permission\". Details: \"The caller does not have permission\">\n",
    "\n",
    "Solution: We need to get the author of the Love Package Volunteer form to approve an access request from the email account (ttloveproject@gmail.com)\n",
    "\n",
    "Then fetching the responses is simple.\n",
    "'''"
   ]
  }
 ],
 "metadata": {
  "kernelspec": {
   "display_name": "venv",
   "language": "python",
   "name": "python3"
  },
  "language_info": {
   "codemirror_mode": {
    "name": "ipython",
    "version": 3
   },
   "file_extension": ".py",
   "mimetype": "text/x-python",
   "name": "python",
   "nbconvert_exporter": "python",
   "pygments_lexer": "ipython3",
   "version": "3.11.2"
  }
 },
 "nbformat": 4,
 "nbformat_minor": 2
}
